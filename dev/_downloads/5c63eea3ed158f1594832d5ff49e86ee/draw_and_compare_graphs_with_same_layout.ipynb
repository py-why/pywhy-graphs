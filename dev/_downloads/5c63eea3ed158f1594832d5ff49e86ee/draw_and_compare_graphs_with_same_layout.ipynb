{
  "cells": [
    {
      "cell_type": "code",
      "execution_count": null,
      "metadata": {
        "collapsed": false
      },
      "outputs": [],
      "source": [
        "%matplotlib inline"
      ]
    },
    {
      "cell_type": "markdown",
      "metadata": {},
      "source": [
        "\n\n# Drawing graphs and setting their layout for visual comparison\n\nOne can draw a graph without setting the ``pos`` argument,\nin that case graphviz will choose how to place the nodes.\n\nIn this example, we demonstrate how to visualize various different graphs with a fixed layout\nfor the nodes, so that they are easily comparable.\n\nThis examples shows how to create a position layout for all the nodes (using networkx)\nand pass this to other graphs so that the nodes positions\nare the same for the nodes with the same labels.\n\nAlternatively, one can create their own positions manually, or using software,\nsuch as [Dagitty](http://dagitty.net).\n"
      ]
    },
    {
      "cell_type": "code",
      "execution_count": null,
      "metadata": {
        "collapsed": false
      },
      "outputs": [],
      "source": [
        "import networkx as nx\n\nimport pywhy_graphs\nfrom pywhy_graphs import CPDAG, PAG\nfrom pywhy_graphs.viz import draw\n\n# create some dummy graphs: G, admg, cpdag, and pag\n# this code is borrowed from the other example: intro_causal_graphs.py ;)\nG = nx.DiGraph([(\"x\", \"y\"), (\"z\", \"y\"), (\"z\", \"w\"), (\"xy\", \"x\"), (\"xy\", \"y\")])\nadmg = pywhy_graphs.set_nodes_as_latent_confounders(G, [\"xy\"])\ncpdag = CPDAG()\ncpdag.add_edges_from(G.edges, cpdag.undirected_edge_name)\ncpdag.orient_uncertain_edge(\"x\", \"y\")\ncpdag.orient_uncertain_edge(\"xy\", \"y\")\ncpdag.orient_uncertain_edge(\"z\", \"y\")\npag = PAG()\npag.add_edges_from(G.edges, cpdag.undirected_edge_name)\n\n# get the layout position for the graph G using networkx\npos_G = nx.spring_layout(G, k=10)\n\n# let us inspect the positions.\n# Notice that networkx and graphviz related software store positions as\n# a dictionary keyed by node with (x, y) coordinates as values.\nprint(pos_G)\n\n# draw the graphs (i.e., generate a graphviz object that can be rendered)\n# each time we call draw() we pass the layout position of G\ndot_G = draw(G, name=\"A DiGraph\", pos=pos_G)\ndot_admg = draw(admg, name=\"An ADMG\", pos=pos_G)\ndot_cpdag = draw(cpdag, name=\"A CPDAG\", pos=pos_G)\ndot_pag = draw(pag, name=\"A PAG\", pos=pos_G)\n\n# render the graphs using graphviz render() function\ndot_G.render(outfile=\"G.png\", view=True, engine=\"neato\")\ndot_admg.render(outfile=\"admg.png\", view=True, engine=\"neato\")\ndot_cpdag.render(outfile=\"cpdag.png\", view=True, engine=\"neato\")\ndot_pag.render(outfile=\"pag.png\", view=True, engine=\"neato\")\n\n# .. note::\n# The 'neato' engine is required in order to leverage the positions\n# specified in the `draw` function. For more information, see the documentation\n# on graphviz engines: https://graphviz.org/docs/layouts/neato/."
      ]
    }
  ],
  "metadata": {
    "kernelspec": {
      "display_name": "Python 3",
      "language": "python",
      "name": "python3"
    },
    "language_info": {
      "codemirror_mode": {
        "name": "ipython",
        "version": 3
      },
      "file_extension": ".py",
      "mimetype": "text/x-python",
      "name": "python",
      "nbconvert_exporter": "python",
      "pygments_lexer": "ipython3",
      "version": "3.8.16"
    }
  },
  "nbformat": 4,
  "nbformat_minor": 0
}