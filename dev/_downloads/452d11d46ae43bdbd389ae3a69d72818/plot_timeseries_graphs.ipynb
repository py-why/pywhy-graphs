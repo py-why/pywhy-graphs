{
  "cells": [
    {
      "cell_type": "markdown",
      "metadata": {},
      "source": [
        "\n\n# Drawing timeseries graphs and setting their layout\n\nOne can draw timeseries graphs without setting the ``pos`` argument,\nin that case graphviz will choose how to place the nodes. This can look rather\nmessy in the final output.\n\nIn this example, we demonstrate how to visualize timeseries graphs effectively.\n\nFor comparing different graphs with the same layout, see `ex-draw-graphs`\n"
      ]
    },
    {
      "cell_type": "code",
      "execution_count": null,
      "metadata": {
        "collapsed": false
      },
      "outputs": [],
      "source": [
        "from pywhy_graphs import StationaryTimeSeriesDiGraph\nfrom pywhy_graphs.viz import draw, timeseries_layout\n\n# create some dummy graphs: G, admg, cpdag, and pag\n# this code is borrowed from the other example: intro_causal_graphs.py ;)\nG = StationaryTimeSeriesDiGraph(max_lag=3)\nts_edges = [\n    ((\"x1\", -1), (\"x1\", 0)),\n    ((\"x1\", -1), (\"x2\", 0)),\n    ((\"x3\", -1), (\"x2\", 0)),\n    ((\"x3\", -1), (\"x3\", 0)),\n    ((\"x1\", -3), (\"x3\", 0)),\n]\nG.add_edges_from(ts_edges)"
      ]
    },
    {
      "cell_type": "markdown",
      "metadata": {},
      "source": [
        "First we will draw the graph without setting positions\n\n"
      ]
    },
    {
      "cell_type": "code",
      "execution_count": null,
      "metadata": {
        "collapsed": false
      },
      "outputs": [],
      "source": [
        "dot_G = draw(G)\n\n# render the graphs using graphviz render() function\ndot_G.render(outfile=\"default_G.png\", view=True)"
      ]
    },
    {
      "cell_type": "markdown",
      "metadata": {},
      "source": [
        "Next, we will set positions using the `pywhy_graphs.viz.timeseries_layout` function,\nwhich creates a nice default layout for time-series graphs.\n\n"
      ]
    },
    {
      "cell_type": "code",
      "execution_count": null,
      "metadata": {
        "collapsed": false
      },
      "outputs": [],
      "source": [
        "# get the layout position for the graph G using networkx\npos_G = timeseries_layout(G, variable_order=[\"x1\", \"x2\", \"x3\"], scale=10)\n\n# let us inspect the positions.\n# Notice that networkx and graphviz related software store positions as\n# a dictionary keyed by node with (x, y) coordinates as values.\nprint(pos_G)\n\n# draw the graphs (i.e., generate a graphviz object that can be rendered)\n# each time we call draw() we pass the layout position of G\ndot_G = draw(G, pos=pos_G)\n\n# render the graphs using graphviz render() function\ndot_G.render(outfile=\"G.png\", view=True, engine=\"neato\")"
      ]
    }
  ],
  "metadata": {
    "kernelspec": {
      "display_name": "Python 3",
      "language": "python",
      "name": "python3"
    },
    "language_info": {
      "codemirror_mode": {
        "name": "ipython",
        "version": 3
      },
      "file_extension": ".py",
      "mimetype": "text/x-python",
      "name": "python",
      "nbconvert_exporter": "python",
      "pygments_lexer": "ipython3",
      "version": "3.11.10"
    }
  },
  "nbformat": 4,
  "nbformat_minor": 0
}