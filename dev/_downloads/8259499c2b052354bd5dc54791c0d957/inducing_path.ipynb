{
  "cells": [
    {
      "cell_type": "markdown",
      "metadata": {},
      "source": [
        "\n# An introduction to Inducing Paths and how to find them\n\nA path p is called an ``inducing path`` relative to <L,S>\non an mixed-edge graph with directed and bidirected edges, where every non-endpoint vertex on p\nis either in L or a collider, and every collider on p is an ancestor\nof either X , Y or a member of S.\n\n\nIn other words, it is a path between two nodes that cannot be\nd-seperated, making it active regardless of what variables\nwe condition on.\n\nMore details on inducing paths can be found at :footcite:`Zhang2008`.\n"
      ]
    },
    {
      "cell_type": "code",
      "execution_count": null,
      "metadata": {
        "collapsed": false
      },
      "outputs": [],
      "source": [
        "import pywhy_graphs\nfrom pywhy_graphs import ADMG\nfrom pywhy_graphs.viz import draw"
      ]
    },
    {
      "cell_type": "markdown",
      "metadata": {},
      "source": [
        "## Construct an example graph\nTo illustrate the workings of the inducing path algorithm, we will\nconstruct the causal graph from figure 2 of :footcite:`Colombo2012`.\n\n"
      ]
    },
    {
      "cell_type": "code",
      "execution_count": null,
      "metadata": {
        "collapsed": false
      },
      "outputs": [],
      "source": [
        "G = ADMG()\nG.add_edge(\"X4\", \"X1\", G.directed_edge_name)\nG.add_edge(\"X2\", \"X5\", G.directed_edge_name)\nG.add_edge(\"X2\", \"X6\", G.directed_edge_name)\nG.add_edge(\"X4\", \"X6\", G.directed_edge_name)\nG.add_edge(\"X3\", \"X6\", G.directed_edge_name)\nG.add_edge(\"X3\", \"X4\", G.directed_edge_name)\nG.add_edge(\"X3\", \"X2\", G.directed_edge_name)\nG.add_edge(\"X5\", \"X6\", G.directed_edge_name)\nG.add_edge(\"L2\", \"X4\", G.directed_edge_name)\nG.add_edge(\"L2\", \"X5\", G.directed_edge_name)\nG.add_edge(\"L1\", \"X1\", G.directed_edge_name)\nG.add_edge(\"L1\", \"X2\", G.directed_edge_name)\n\n\n# this is the Figure 2(a) in the paper as we see.\ndot_graph = draw(G)\ndot_graph.render(outfile=\"graph.png\", view=True)"
      ]
    },
    {
      "cell_type": "markdown",
      "metadata": {},
      "source": [
        "## Adjacent nodes trivially have an inducing path\nBy definition, all adjacent nodes have a trivial inducing path between them,\nthat path only consists of one edge, which is the edge between those two nodes.\n\n"
      ]
    },
    {
      "cell_type": "code",
      "execution_count": null,
      "metadata": {
        "collapsed": false
      },
      "outputs": [],
      "source": [
        "L = {}\nS = {}\n\n# All such tests will return True.\nprint(pywhy_graphs.inducing_path(G, \"X1\", \"X4\", L, S))\nprint(pywhy_graphs.inducing_path(G, \"X3\", \"X2\", L, S))"
      ]
    },
    {
      "cell_type": "markdown",
      "metadata": {},
      "source": [
        "## Inducing paths between non-adjacent nodes\nGiven the definition of an inducing path, we need to satisfy all\nrequirements for the function to return True. Adding the latent\nvariables to L is not enough for the pair [X1,X5]. As we see in\nFigure 2(c) in :footcite:`Colombo2012`,  (X1, X5) are not adjacent\nin the final skeleton of the equivalence class, which makes sense\nbecause a MAG is an equivalence class of a DAG and contains an\nedge among two nodes if i) the two nodes are adjacent in the DAG,\nor ii) the two nodes have a primitive inducing path between them.\nSince there is no adjacency among (X1, X5) in the final skeleton,\nthere is no primitive inducing path between them.\n\n"
      ]
    },
    {
      "cell_type": "code",
      "execution_count": null,
      "metadata": {
        "collapsed": false
      },
      "outputs": [],
      "source": [
        "L = {\"L1\", \"L2\"}\nS = {}\n\n\n# returns False\nprint(pywhy_graphs.inducing_path(G, \"X1\", \"X5\", L, S))\n\n\n# However, if we add X3, a non-collider on the path\n# from X1 to X5 to L, we make a valid inducing path.\n\n\nL = {\"L1\", \"L2\", \"X3\"}\nS = {}\n\n# now it returns True\nprint(pywhy_graphs.inducing_path(G, \"X1\", \"X5\", L, S))"
      ]
    },
    {
      "cell_type": "markdown",
      "metadata": {},
      "source": [
        "## The role of colliders\nAdding colliders to the set S has a downstream effect.\nConditioning on a collider, or descendant of a collider opens up that collider path.\nFor example, we will add the node 'X6' to the set ``S``. This will make the\npath ``(X1, X2, X3)`` a valid inducing path, since 'X2' is an ancestor of 'X6'.\n\n"
      ]
    },
    {
      "cell_type": "code",
      "execution_count": null,
      "metadata": {
        "collapsed": false
      },
      "outputs": [],
      "source": [
        "# Some node pairs still do not have a valid inducing path between them.\n# For example, the path between X1 and X3 is not available.\n\n# this returns False\nprint(pywhy_graphs.inducing_path(G, \"X1\", \"X3\", L, S))\n\n# If we add X6 to ``S``, paths containing all the collider ancestors of X6\n# will be valid inducing paths.\n# Since X2 is a collider and an ancestor of X6, there should be a valid inducing\n# path from X1 to X3 now.\n\nL = {\"L1\", \"L2\", \"X3\"}\nS = {\"X6\"}\n\n# now it returns True\nprint(pywhy_graphs.inducing_path(G, \"X1\", \"X3\", L, S))"
      ]
    },
    {
      "cell_type": "markdown",
      "metadata": {},
      "source": [
        "## References\n.. footbibliography::\n\n"
      ]
    }
  ],
  "metadata": {
    "kernelspec": {
      "display_name": "Python 3",
      "language": "python",
      "name": "python3"
    },
    "language_info": {
      "codemirror_mode": {
        "name": "ipython",
        "version": 3
      },
      "file_extension": ".py",
      "mimetype": "text/x-python",
      "name": "python",
      "nbconvert_exporter": "python",
      "pygments_lexer": "ipython3",
      "version": "3.11.10"
    }
  },
  "nbformat": 4,
  "nbformat_minor": 0
}