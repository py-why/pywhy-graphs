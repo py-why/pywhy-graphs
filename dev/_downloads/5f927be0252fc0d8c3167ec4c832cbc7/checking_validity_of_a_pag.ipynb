{
  "cells": [
    {
      "cell_type": "markdown",
      "metadata": {},
      "source": [
        "\n# On PAGs and their validity\n\nA PAG or a Partial Ancestral Graph is a type of mixed edge\ngraph that can represent, in a single graph, the causal relationship\nbetween several nodes as defined by an equivalence class of MAGs.\n\nPAGs account for possible unobserved confounding and selection bias\nin the underlying equivalence class of SCMs.\n\nAnother way to understand this is that PAGs encode conditional independence\nconstraints stemming from Causal Graphs. Since these constraints do not lead to a\nunique graph, a PAG, in essence, represents a class of graphs that encode\nthe same conditional independence constraints.\n\nPAGs model this relationship by displaying all common edge marks (tail and arrowhead) shared \nby all members in the equivalence class and displaying circle endpoints for those marks\nthat are not common. That is, a circular endpoint (``*-o``) can represent both a directed\n(``*->``) and tail (``*\u2014``) endpoint in causal graphs within the equivalence class.\n\nMore details on PAGs can be found at :footcite:`Zhang2008`.\n"
      ]
    },
    {
      "cell_type": "code",
      "execution_count": null,
      "metadata": {
        "collapsed": false
      },
      "outputs": [],
      "source": [
        "import pywhy_graphs\nfrom pywhy_graphs.viz import draw\nfrom pywhy_graphs import PAG\n\ntry:\n    from dodiscover import FCI, make_context\n    from dodiscover.ci import Oracle\n    from dodiscover.constraint.utils import dummy_sample\nexcept ImportError as e:\n    raise ImportError(\"The 'dodiscover' package is required to convert a MAG to a PAG.\")"
      ]
    },
    {
      "cell_type": "markdown",
      "metadata": {},
      "source": [
        "## PAGs in pywhy-graphs\nConstructing a PAG in pywhy-graphs is an easy task since\nthe library provides a separate class for this purpose.\nTrue to the definition of PAGs, the class can contain\ndirected edges, bidirected edges, undirected edges and\ncicle edges. To illustrate this, we construct an example PAG\nas described in :footcite:`Zhang2008`, figure 4:\n\n"
      ]
    },
    {
      "cell_type": "code",
      "execution_count": null,
      "metadata": {
        "collapsed": false
      },
      "outputs": [],
      "source": [
        "pag = PAG()\npag.add_edge(\"I\", \"S\", pag.directed_edge_name)\npag.add_edge(\"G\", \"S\", pag.directed_edge_name)\npag.add_edge(\"G\", \"L\", pag.directed_edge_name)\npag.add_edge(\"S\", \"L\", pag.directed_edge_name)\npag.add_edge(\"PSH\", \"S\", pag.directed_edge_name)\npag.add_edge(\"S\", \"PSH\", pag.circle_edge_name)\npag.add_edge(\"S\", \"G\", pag.circle_edge_name)\npag.add_edge(\"S\", \"I\", pag.circle_edge_name)\n\n\n# Finally, the graph looks like this:\ndot_graph = draw(pag)\ndot_graph.render(outfile=\"valid_pag.png\", view=True)"
      ]
    },
    {
      "cell_type": "markdown",
      "metadata": {},
      "source": [
        "## Validity of a PAG\nFor a PAG to be valid, it must represent a valid\nequivalent class of MAGs. This can be verified by\nturning the PAG into an MAG and then checking the\nvalidity of the MAG.\nTheorem 2 in :footcite:`Zhang2008` provides a method for checking the validity of a PAG.\nTo check if the constructed PAG is a valid one in pywhy-graphs, we can simply do:\n\n"
      ]
    },
    {
      "cell_type": "code",
      "execution_count": null,
      "metadata": {
        "collapsed": false
      },
      "outputs": [],
      "source": [
        "# returns True\nprint(pywhy_graphs.valid_pag(pag))"
      ]
    },
    {
      "cell_type": "markdown",
      "metadata": {},
      "source": [
        "If we want to test whether this algorithm is working correctly or not, we can change\na single mark in the graph such that the PAG. By removing a circle edge, we are removing\nthe representation of multiple marks as encoded by the different MAGs this PAG represents.\nIn this specific case, by removing the circle endpoint ``S *-o I``, we are saying that ``S``\ndirectly causes ``I``. However, there is no way of determining this using the FCI logical rules.\nOne would not be able to determine that the adjacency is due to a direct\ncausal relationship (directed edge), confounded relationship (bidirected edge), or an inducing path\nrelationship. As such, the resulting graph is no longer a valid PAG.\n\n"
      ]
    },
    {
      "cell_type": "code",
      "execution_count": null,
      "metadata": {
        "collapsed": false
      },
      "outputs": [],
      "source": [
        "pag.remove_edge(\"S\", \"I\", pag.circle_edge_name)\n\n# returns False\nprint(pywhy_graphs.valid_pag(pag))"
      ]
    },
    {
      "cell_type": "markdown",
      "metadata": {},
      "source": [
        "## References\n.. footbibliography::\n\n"
      ]
    }
  ],
  "metadata": {
    "kernelspec": {
      "display_name": "Python 3",
      "language": "python",
      "name": "python3"
    },
    "language_info": {
      "codemirror_mode": {
        "name": "ipython",
        "version": 3
      },
      "file_extension": ".py",
      "mimetype": "text/x-python",
      "name": "python",
      "nbconvert_exporter": "python",
      "pygments_lexer": "ipython3",
      "version": "3.11.11"
    }
  },
  "nbformat": 4,
  "nbformat_minor": 0
}