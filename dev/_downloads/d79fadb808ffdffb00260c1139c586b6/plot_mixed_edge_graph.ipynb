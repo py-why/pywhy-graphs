{
  "cells": [
    {
      "cell_type": "code",
      "execution_count": null,
      "metadata": {
        "collapsed": false
      },
      "outputs": [],
      "source": [
        "%matplotlib inline"
      ]
    },
    {
      "cell_type": "markdown",
      "metadata": {},
      "source": [
        "\n# MixedEdgeGraph - Graph with different types of edges\n\nA ``MixedEdgeGraph`` is a graph comprised of a tuple, $G = (V, E)$.\nThe difference compared to the other networkx graphs are the edges, E.\n``E`` is comprised of a set of mixed edges defined by the user. This\nallows arbitrary representation of graphs with different types of edges.\nThe ``MixedEdgeGraph`` class represents each type of edge using an internal\ngraph that is one of ``nx.Graph`` or ``nx.DiGraph`` classes. Each internal graph\nrepresents one type of edge.\n\nSemantically a ``MixedEdgeGraph`` with just one type of edge, is just a normal\n``nx.Graph` or ``nx.DiGraph`` and should be converted to its appropriate\nnetworkx class.\n\nFor example, causal graphs typically have two types of edges:\n\n- ``->`` directed edges representing causal relations\n- ``<->`` bidirected edges representing the presence of an unobserved\n  confounder.\n\nThis would type of mixed-edge graph with two internal graphs: a ``nx.DiGraph``\nto represent the directed edges, and a ``nx.Graph`` to represent the bidirected\nedges.\n"
      ]
    },
    {
      "cell_type": "code",
      "execution_count": null,
      "metadata": {
        "collapsed": false
      },
      "outputs": [],
      "source": [
        "import matplotlib.pyplot as plt\nimport networkx as nx\n\nimport pywhy_graphs as pg"
      ]
    },
    {
      "cell_type": "markdown",
      "metadata": {},
      "source": [
        "## Construct a MixedEdgeGraph\nUsing the ``MixedEdgeGraph``, we can represent a causal graph\nwith two different kinds of edges. To create the graph, we\nuse networkx ``nx.DiGraph`` class to represent directed edges,\nand ``nx.Graph`` class to represent edges without directions (i.e.\nbidirected edges). The edge types are then specified, so the mixed edge\ngraph object knows which graphs are associated with which types of edges.\n\n"
      ]
    },
    {
      "cell_type": "code",
      "execution_count": null,
      "metadata": {
        "collapsed": false
      },
      "outputs": [],
      "source": [
        "directed_G = nx.DiGraph(\n    [\n        (\"X\", \"Y\"),\n        (\"Z\", \"X\"),\n    ]\n)\nbidirected_G = nx.Graph(\n    [\n        (\"X\", \"Y\"),\n    ]\n)\ndirected_G.add_nodes_from(bidirected_G.nodes)\nbidirected_G.add_nodes_from(directed_G.nodes)\nG = pg.networkx.MixedEdgeGraph(\n    graphs=[directed_G, bidirected_G],\n    edge_types=[\"directed\", \"bidirected\"],\n    name=\"IV Graph\",\n)\n\n# Compute the multipartite_layout using the \"layer\" node attribute\npos = nx.spring_layout(G)\n\n# we can then visualize the mixed-edge graph\nfig, ax = plt.subplots()\nnx.draw_networkx(G.get_graphs(edge_type=\"directed\"), pos=pos, ax=ax)\nnx.draw_networkx(G.get_graphs(edge_type=\"bidirected\"), pos=pos, ax=ax)\nax.set_title(\"Instrumental Variable Mixed Edge Causal Graph\")\nfig.tight_layout()\nplt.show(block=False)"
      ]
    },
    {
      "cell_type": "markdown",
      "metadata": {},
      "source": [
        "## Mixed Edge Graph Properties\n\n"
      ]
    },
    {
      "cell_type": "code",
      "execution_count": null,
      "metadata": {
        "collapsed": false
      },
      "outputs": [],
      "source": [
        "print(G.name)\n\n# G is directed since there are directed edges\nprint(f\"{G} is directed: {G.is_directed()} because there are directed edges.\")\n\n# MixedEdgeGraphs are not multigraphs\nprint(G.is_multigraph())\n\n# the different edge types present in the graph\nprint(G.edge_types)\n\n# the internal networkx graphs representing each edge type\nprint(G.get_graphs())\n\n# we can specifically get the networkx graph representation\n# of any edge, e.g. the bidirected edges\nbidirected_edges = G.get_graphs(\"bidirected\")"
      ]
    },
    {
      "cell_type": "markdown",
      "metadata": {},
      "source": [
        "## Mixed Edge Graph Operations on Nodes\n\n"
      ]
    },
    {
      "cell_type": "code",
      "execution_count": null,
      "metadata": {
        "collapsed": false
      },
      "outputs": [],
      "source": [
        "# Nodes: Similar to ``nx.Graph`` and ``nx.DiGraph``, the nodes of the graph\n# can be queried via the same API. By default nodes are stored\n# inside every internal graph.\nnodes = G.nodes\nassert G.order() == len(G)\nassert len(G) == G.number_of_nodes()\nprint(f\"{G} has nodes: {nodes}\")\n\n# If we add a node, then we can query if the new node is there\nprint(f\"Graph has node A: {G.has_node('A')}\")\nG.add_node(\"A\")\nprint(f\"Now graph has node A: {G.has_node('A')}\")\n\n# Now, we can remove the node\nG.remove_node(\"A\")\nprint(f\"Graph has node A: {G.has_node('A')}\")"
      ]
    },
    {
      "cell_type": "markdown",
      "metadata": {},
      "source": [
        "## Mixed Edge Graph Operations on Edges\nMixed edge graphs are just like normal networkx graph classes,\nexcept that they store an internal networkx graph per edge type.\nAs a result, each edge now corresponds to an 'edge_type', which\ntypically must be specified in edge operations for mixed edge graphs.\n\n"
      ]
    },
    {
      "cell_type": "code",
      "execution_count": null,
      "metadata": {
        "collapsed": false
      },
      "outputs": [],
      "source": [
        "# Edges: We can query specific edges by type\nprint(f\"The graph has directed edges: {G.edges()['directed']}\")\n\n# Note these edges correspond to the edges of the internal networkx\n# DiGraph that represents the directed edges\nprint(G.get_graphs(\"directed\").edges())\n\n# When querying, adding, or removing an edge, you must specify\n# the edge type as well.\n# Here, we can add a new Z <-> Y bidirected edge.\nassert G.has_edge(\"X\", \"Y\", edge_type=\"directed\")\nG.add_edge(\"Z\", \"Y\", edge_type=\"bidirected\")\nassert not G.has_edge(\"Z\", \"Y\", edge_type=\"directed\")\n\n# Now, we can remove the Z <-> Y bidirected edge.\nG.remove_edge(\"Z\", \"Y\", edge_type=\"bidirected\")\nassert not G.has_edge(\"Z\", \"Y\", edge_type=\"bidirected\")"
      ]
    },
    {
      "cell_type": "markdown",
      "metadata": {},
      "source": [
        "## Mixed Edge Graph Key Differences\nMixed edge graphs implement the standard networkx API, but the\n``adj``, ``edges``, and ``degree`` are functions instead of\nclass properties. Moreover, one can specify the edge type.\n\n"
      ]
    },
    {
      "cell_type": "code",
      "execution_count": null,
      "metadata": {
        "collapsed": false
      },
      "outputs": [],
      "source": [
        "# Neighbors: Compared to its uni-edge networkx counterparts, a mixed-edge\n# graph has many edge types. We define neighbors as any node with a connection.\n# This is similar to `nx.Graph` where neighbors are any adjacent neighbors.\nassert \"Z\" in G.neighbors(\"X\")\n\n# Similar to the networkx API, the ``adj`` provides a way to iterate\n# through the nodes and edges, but now over different edge types.\nfor edge_type, adj in G.adj.items():\n    print(edge_type)\n    print(adj)\n\n# If you only want the adjacencies of the directed edges, you can\n# query the returned dictionary of adjacencies.\nprint(G.adj[\"directed\"])\n\n# Similar to the networkx API, the ``edges`` provides a way to iterate\n# through the edges, but now over different edge types.\nfor edge_type, edges in G.edges().items():\n    print(edge_type)\n    print(edges)\n\n# Similar to the networkx API, the ``edges`` provides a way to iterate\n# through the edges, but now over different edge types.\nfor node, degrees in G.degree().items():\n    print(f\"{node} with degree: {degrees}\")"
      ]
    }
  ],
  "metadata": {
    "kernelspec": {
      "display_name": "Python 3",
      "language": "python",
      "name": "python3"
    },
    "language_info": {
      "codemirror_mode": {
        "name": "ipython",
        "version": 3
      },
      "file_extension": ".py",
      "mimetype": "text/x-python",
      "name": "python",
      "nbconvert_exporter": "python",
      "pygments_lexer": "ipython3",
      "version": "3.8.16"
    }
  },
  "nbformat": 4,
  "nbformat_minor": 0
}