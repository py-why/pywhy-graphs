{
  "cells": [
    {
      "cell_type": "code",
      "execution_count": null,
      "metadata": {
        "collapsed": false
      },
      "outputs": [],
      "source": [
        "%matplotlib inline"
      ]
    },
    {
      "cell_type": "markdown",
      "metadata": {},
      "source": [
        "\n\n# An introduction to causal graphs and how to use them\n\nCausal graphs are graphical objects that attach causal notions to each edge\nand missing edge. We will review some of the fundamental causal graphs used\nin causal inference, and their differences from traditional graphs.\n"
      ]
    },
    {
      "cell_type": "code",
      "execution_count": null,
      "metadata": {
        "collapsed": false
      },
      "outputs": [],
      "source": [
        "import networkx as nx\nimport numpy as np\nimport pandas as pd\nfrom dowhy import gcm\nfrom dowhy.gcm.util.general import set_random_seed\nfrom scipy import stats\n\nimport pywhy_graphs\nimport pywhy_graphs.networkx as pywhy_nx\nfrom pywhy_graphs import CPDAG, PAG\nfrom pywhy_graphs.viz import draw"
      ]
    },
    {
      "cell_type": "markdown",
      "metadata": {},
      "source": [
        "## Structural Causal Models: Simulating some data\n\nStructural causal models (SCMs) :footcite:`Pearl_causality_2009` are mathematical objects\ndefined by a 4-tuple <V, U, F, P(U)>, where:\n\n  - V is the set of endogenous observed variables\n  - U is the set of exogenous unobserved variables\n  - F is the set of functions for every $v \\in V$\n  - P(U) is the set of distributions for all $u \\in U$\n\nTaken together, these four objects define the generating causal\nmechanisms for a causal problem. Almost always, the SCM is not known.\nHowever, the SCM induces a causal graph, which has nodes from ``V``\nand then edges are defined by the arguments of the functions in ``F``.\nIf there are common exogenous parents for any V, then this can be represented\nin an Acyclic Directed Mixed Graph (ADMG), or a causal graph with bidirected edges.\nThe common latent confounder is represented with a bidirected edge between two\nendogenous variables.\n\nEven though the SCM is typically unknown, we can still use it to generate\nground-truth simulations to evaluate various algorithms and build our intuition.\nHere, we will simulate some data to understand causal graphs in the context of SCMs.\n\n"
      ]
    },
    {
      "cell_type": "code",
      "execution_count": null,
      "metadata": {
        "collapsed": false
      },
      "outputs": [],
      "source": [
        "# set a random seed to make example reproducible\nseed = 12345\nrng = np.random.RandomState(seed=seed)\n\n\nclass MyCustomModel(gcm.PredictionModel):\n    def __init__(self, coefficient):\n        self.coefficient = coefficient\n\n    def fit(self, X, Y):\n        # Nothing to fit here, since we know the ground truth.\n        pass\n\n    def predict(self, X):\n        return self.coefficient * X\n\n    def clone(self):\n        # We don't really need this actually.\n        return MyCustomModel(self.coefficient)\n\n\n# set a random seed to make example reproducible\nset_random_seed(1234)\n\n# construct a causal graph that will result in\n# xy - > x -> y <- z -> w\n#  \\_________/^\nG = nx.DiGraph([(\"x\", \"y\"), (\"z\", \"y\"), (\"z\", \"w\"), (\"xy\", \"x\"), (\"xy\", \"y\")])\ndot_graph = draw(G)\ndot_graph.render(outfile=\"dag.png\", view=True)\n\ncausal_model = gcm.ProbabilisticCausalModel(G)\ncausal_model.set_causal_mechanism(\"xy\", gcm.ScipyDistribution(stats.binom, p=0.5, n=1))\ncausal_model.set_causal_mechanism(\"z\", gcm.ScipyDistribution(stats.binom, p=0.9, n=1))\ncausal_model.set_causal_mechanism(\n    \"y\",\n    gcm.AdditiveNoiseModel(\n        prediction_model=MyCustomModel(1),\n        noise_model=gcm.ScipyDistribution(stats.binom, p=0.8, n=1),\n    ),\n)\ncausal_model.set_causal_mechanism(\n    \"w\",\n    gcm.AdditiveNoiseModel(\n        prediction_model=MyCustomModel(1),\n        noise_model=gcm.ScipyDistribution(stats.binom, p=0.5, n=1),\n    ),\n)\ncausal_model.set_causal_mechanism(\n    \"x\",\n    gcm.AdditiveNoiseModel(\n        prediction_model=MyCustomModel(1),\n        noise_model=gcm.ScipyDistribution(stats.binom, p=0.5, n=1),\n    ),\n)\n\n# Fit here would not really fit parameters, since we don't do anything in the fit method.\n# Here, we only need this to ensure that each FCM has the correct local hash (i.e., we\n# get an inconsistency error if we would modify the graph afterwards without updating\n# the FCMs). Having an empty data set is a small workaround, since all models are\n# pre-defined.\ngcm.fit(causal_model, pd.DataFrame(columns=[\"x\", \"y\", \"z\", \"w\", \"xy\"]))\n\n# sample the observational data\ndata = gcm.draw_samples(causal_model, num_samples=500)\n\nprint(data.head())\nprint(pd.Series({col: data[col].unique() for col in data}))\n\n# note the graph shows colliders, which is a collision of arrows\n# for example between ``x`` and ``z`` at ``y``.\ndraw(G)"
      ]
    },
    {
      "cell_type": "markdown",
      "metadata": {},
      "source": [
        "## Causal Directed Ayclic Graphs (DAG): Also known as Causal Bayesian Networks\n\nCausal DAGs represent Markovian SCMs, also known as the \"causally sufficient\"\nassumption, where there are no unobserved confounders in the graph.\n\n"
      ]
    },
    {
      "cell_type": "code",
      "execution_count": null,
      "metadata": {
        "collapsed": false
      },
      "outputs": [],
      "source": [
        "print(G)\n\n# One can query the parents of 'y' for example\nprint(list(G.predecessors(\"y\")))\n\n# Or the children of 'x'\nprint(list(G.successors(\"xy\")))\n\n# Using the graph, we can explore d-separation statements, which by the Markov\n# condition, imply conditional independences.\n# For example, 'z' is d-separated from 'x' because of the collider at 'y'\nprint(f\"'z' is d-separated from 'x': {nx.d_separated(G, {'z'}, {'x'}, set())}\")\n\n# Conditioning on the collider, opens up the path\nprint(f\"'z' is d-separated from 'x' given 'y': {nx.d_separated(G, {'z'}, {'x'}, {'y'})}\")"
      ]
    },
    {
      "cell_type": "markdown",
      "metadata": {},
      "source": [
        "## Acyclic Directed Mixed Graphs (ADMG)\n\nADMGs represent Semi-Markovian SCMs, where there are possibly unobserved confounders\nin the graph. These unobserved confounders are graphically depicted with a bidirected edge.\n\n"
      ]
    },
    {
      "cell_type": "code",
      "execution_count": null,
      "metadata": {
        "collapsed": false
      },
      "outputs": [],
      "source": [
        "# We can construct an ADMG from the DAG by just setting 'xy' as a latent confounder\nadmg = pywhy_graphs.set_nodes_as_latent_confounders(G, [\"xy\"])\n\n# Now there is a bidirected edge between 'x' and 'y'\ndot_graph = draw(admg)\ndot_graph.render(outfile=\"admg.png\", view=True)\n\n# Now if one queries the parents of 'y', it will not show 'xy' anymore\nprint(list(admg.predecessors(\"y\")))\n\n# The bidirected edges also form a cluster in what is known as \"confounded-components\", or\n# c-components for short.\nprint(f\"The ADMG has confounded-components: {list(admg.c_components())}\")\n\n# We can also look at m-separation statements similarly to a DAG.\n# For example, 'z' is still m-separated from 'x' because of the collider at 'y'\nprint(f\"'z' is d-separated from 'x': {pywhy_nx.m_separated(admg, {'z'}, {'x'}, set())}\")\n\n# Conditioning on the collider, opens up the path\nprint(f\"'z' is d-separated from 'x' given 'y': {pywhy_nx.m_separated(admg, {'z'}, {'x'}, {'y'})}\")\n\n# Say we add a bidirected edge between 'z' and 'x', then they are no longer\n# d-separated.\nadmg.add_edge(\"z\", \"x\", admg.bidirected_edge_name)\nprint(\n    f\"'z' is d-separated from 'x' after adding a bidirected edge z<->x: \"\n    f\"{pywhy_nx.m_separated(admg, {'z'}, {'x'}, set())}\"\n)\n\n# Markov Equivalence Classes\n# --------------------------\n#\n# Besides graphs that represent causal relationships from the SCM, there are other\n# graphical objects used in the causal inference literature.\n#\n# Markov equivalence class graphs are graphs that encode the same Markov equivalences\n# or d-separation statements, or conditional independences. These graphs are commonly\n# used in constraint-based structure learning algorithms, which seek to reconstruct\n# parts of the causal graph from data. In this next section, we will briefly overview\n# some of these common graphs.\n#\n# Markov equivalence class graphs are usually learned from data. The algorithms for\n# doing so are in `dodiscover <https://github.com/py-why/dodiscover>`_. For more\n# details on causal discovery (i.e. structure learning algorithms), please see that repo."
      ]
    },
    {
      "cell_type": "markdown",
      "metadata": {},
      "source": [
        "## Completed Partially Directed Ayclic Graph (CPDAG)\nCPDAGs are Markov Equivalence class graphs that encode the same d-separation statements\nas a causal DAG that stems from a Markovian SCM. All relevant variables are assumed to\nbe observed. An uncertain edge orientation is encoded via a undirected edge between two\nvariables. Here, we'll construct a CPDAG that encodes the same d-separations as the\nearlier DAG.\n\nTypically, CPDAGs are learnt using some variant of the PC algorithm :footcite:`Spirtes1993`.\n\n"
      ]
    },
    {
      "cell_type": "code",
      "execution_count": null,
      "metadata": {
        "collapsed": false
      },
      "outputs": [],
      "source": [
        "cpdag = CPDAG()\n\n# let's assume all the undirected edges are formed from the earlier DAG\ncpdag.add_edges_from(G.edges, cpdag.undirected_edge_name)\n\n# next, we will orient all unshielded colliders present in the original DAG\ncpdag.orient_uncertain_edge(\"x\", \"y\")\ncpdag.orient_uncertain_edge(\"xy\", \"y\")\ncpdag.orient_uncertain_edge(\"z\", \"y\")\n\ndot_graph = draw(cpdag)\ndot_graph.render(outfile=\"cpdag.png\", view=True)"
      ]
    },
    {
      "cell_type": "markdown",
      "metadata": {},
      "source": [
        "## Partial Ancestral Graph (PAG)\nPAGs are Markov equivalence classes for ADMGs. Since we allow latent confounders, these graphs\nare more complex compared to the CPDAGs. PAGs encode uncertain edge orientations via circle\nendpoints. A circle endpoint (``o-*``) can imply either: a tail (``-*``), or an\narrowhead (``<-*``), which can then imply either an undirected edge (selection bias),\ndirected edge (ancestral relationship), or bidirected edge (possible presence of a\nlatent confounder).\n\n.. note: a directed edge in the PAG does not actually imply parental relationships, but simply\n         an ancestral relationship.\n\nTypically, PAGs are learnt using some variant of the FCI algorithm :footcite:`Spirtes1993` and\n:footcite:`Zhang2008`.\n\n"
      ]
    },
    {
      "cell_type": "code",
      "execution_count": null,
      "metadata": {
        "collapsed": false
      },
      "outputs": [],
      "source": [
        "pag = PAG()\n\n# let's assume all the undirected edges are formed from the earlier DAG\nfor u, v in nx.Graph(G.edges).edges:\n    pag.add_edge(u, v, pag.circle_edge_name)\n    pag.add_edge(v, u, pag.circle_edge_name)\n\n# next, we will orient all unshielded colliders present in the original DAG\npag.orient_uncertain_edge(\"x\", \"y\")\npag.orient_uncertain_edge(\"xy\", \"y\")\npag.orient_uncertain_edge(\"z\", \"y\")\n\ndot_graph = draw(pag)\ndot_graph.render(outfile=\"pag.png\", view=True)"
      ]
    },
    {
      "cell_type": "markdown",
      "metadata": {},
      "source": [
        "### References\n.. footbibliography::\n\n"
      ]
    }
  ],
  "metadata": {
    "kernelspec": {
      "display_name": "Python 3",
      "language": "python",
      "name": "python3"
    },
    "language_info": {
      "codemirror_mode": {
        "name": "ipython",
        "version": 3
      },
      "file_extension": ".py",
      "mimetype": "text/x-python",
      "name": "python",
      "nbconvert_exporter": "python",
      "pygments_lexer": "ipython3",
      "version": "3.8.18"
    }
  },
  "nbformat": 4,
  "nbformat_minor": 0
}